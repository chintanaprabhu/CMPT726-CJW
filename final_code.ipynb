{
 "cells": [
  {
   "cell_type": "markdown",
   "metadata": {},
   "source": [
    "# Instructions:\n",
    "\n",
    "1. Set GOOGLE_COLAB to either True or False depending on if you are using Google Colab\n",
    "2. Change the paths for the data files under the \"ieee-fraud-detection\" folder to whatever the actual paths are, if applicable\n",
    "3. See what the values of all the constants should be. If you leave them at their defaults, that is also fine\n",
    "4. Just run the entire file from start to finish each time you want to run it. It should work perfectly and skip over all the lengthy parts after the first complete run.\n",
    "5. Save the code as a .tex along with all plots. Also, save the file as .ipynb.\n",
    "6. Copy and paste \"textCNN_submission.csv\" to a separate folder for storage of Kaggle test data predictions. Hand this into Kaggle to get an accuracy score"
   ]
  },
  {
   "cell_type": "markdown",
   "metadata": {},
   "source": [
    "# Imports"
   ]
  },
  {
   "cell_type": "code",
   "execution_count": 1,
   "metadata": {
    "colab": {
     "base_uri": "https://localhost:8080/",
     "height": 139
    },
    "colab_type": "code",
    "id": "iZs7NHi7Q0Tg",
    "outputId": "0ae161bb-d9fb-46f0-f781-2eaa62a1efc9"
   },
   "outputs": [
    {
     "name": "stderr",
     "output_type": "stream",
     "text": [
      "Using TensorFlow backend.\n"
     ]
    },
    {
     "name": "stdout",
     "output_type": "stream",
     "text": [
      "2.1.0\n"
     ]
    }
   ],
   "source": [
    "import csv\n",
    "import sys\n",
    "import os\n",
    "import pandas as pd\n",
    "import numpy as np\n",
    "import seaborn as sns\n",
    "import matplotlib.pyplot as plt\n",
    "import gc\n",
    "## RandomOverSampler to handle imbalanced data\n",
    "from imblearn.over_sampling import RandomOverSampler\n",
    "import random\n",
    "\n",
    "import tensorflow as tf\n",
    "from tensorflow import keras\n",
    "from tensorflow.keras import Sequential\n",
    "from tensorflow.keras.layers import Flatten, Dense, Dropout, BatchNormalization\n",
    "from tensorflow.keras.layers import Conv1D, MaxPool1D\n",
    "from tensorflow.keras.optimizers import Adam, SGD\n",
    "from keras.callbacks import ModelCheckpoint\n",
    "print(tf.__version__)"
   ]
  },
  {
   "cell_type": "markdown",
   "metadata": {},
   "source": [
    "# Extra Code that must be run"
   ]
  },
  {
   "cell_type": "code",
   "execution_count": 2,
   "metadata": {
    "colab": {
     "base_uri": "https://localhost:8080/",
     "height": 122
    },
    "colab_type": "code",
    "id": "QIogS05UUbr8",
    "outputId": "c4fdb7d0-b00b-4926-d73d-9c72120307a3"
   },
   "outputs": [],
   "source": [
    "GOOGLE_COLAB = False\n",
    "if GOOGLE_COLAB:\n",
    "  from google.colab import drive\n",
    "  drive.mount('/content/gdrive', force_remount=True)\n",
    "  # To unmount, terminate all sessions"
   ]
  },
  {
   "cell_type": "code",
   "execution_count": 3,
   "metadata": {},
   "outputs": [],
   "source": [
    "def read(fileName):\n",
    "    if GOOGLE_COLAB:\n",
    "        file = open(\"gdrive/My Drive/Colab Notebooks/ieee-fraud-detection/\" + fileName)\n",
    "    else:\n",
    "        file = open(\"ieee-fraud-detection/\" + fileName)\n",
    "    reader = csv.reader(file)\n",
    "    print(\"Rows in \" + fileName)\n",
    "    print(len(list(reader)))"
   ]
  },
  {
   "cell_type": "code",
   "execution_count": 4,
   "metadata": {},
   "outputs": [],
   "source": [
    "LESS_DATA_MODE = False\n",
    "def selectRandomIndices(num_indices, num_to_keep, include_header = True):\n",
    "    # NOTE: include_header = False for the \"train\" and \"test\" variables generated using pandas\n",
    "    if include_header:\n",
    "        indices = np.arange(1,num_indices+1,1)\n",
    "    else:\n",
    "        indices = np.arange(0,num_indices,1)\n",
    "    \n",
    "    if num_to_keep > len(indices):\n",
    "        print(\"ERROR: Not enough indices to keep!\")\n",
    "        sys.exit()\n",
    "    else:\n",
    "        random.shuffle(indices)\n",
    "        indices_to_use = indices[:num_to_keep]\n",
    "        indices_to_use = np.sort(indices_to_use)\n",
    "        indices_to_skip = indices[num_to_keep:]\n",
    "        indices_to_skip = np.sort(indices_to_skip)\n",
    "    \n",
    "    if include_header and indices_to_use[0] != 0:\n",
    "        indices_to_use = np.concatenate(([0],indices_to_use),axis=0)\n",
    "    indices_to_skip = np.delete(indices_to_skip, 0, axis = None)\n",
    "    \n",
    "    return list(indices_to_use), list(indices_to_skip)\n",
    "\n",
    "\n",
    "# Data info for entire dataset\n",
    "NUM_TEST_DATA = 506691\n",
    "NUM_TRAIN_DATA = 590540\n",
    "NUM_INPUTS = 433\n",
    "NUM_OUTPUTS = 1"
   ]
  },
  {
   "cell_type": "markdown",
   "metadata": {},
   "source": [
    "It turns out that the number of rows corresponds to the number of rows in test_transaction.csv (test data) and train_transaction.csv (train data).\n",
    "\n",
    "The number of columns in the train and test data correspond to:\n",
    "\n",
    "    The number of columns in \"train_transaction.csv\" plus the number of columnns in \"train_identity.csv\"\n",
    "    \n",
    "    The number of columns in \"test_transaction.csv\" plus the number of columns in \"train_identity.csv\""
   ]
  },
  {
   "cell_type": "code",
   "execution_count": 5,
   "metadata": {},
   "outputs": [],
   "source": [
    "# Change the train and test data to contain a certain number of indices\n",
    "NUM_TRAIN, NUM_TEST = 10000, 10000 # NUM_TEST >= 64 for this code to work\n",
    "NUM_TRAIN, NUM_TEST = min(NUM_TRAIN,NUM_TRAIN_DATA), min(NUM_TEST,NUM_TEST_DATA)\n",
    "\n",
    "if LESS_DATA_MODE:\n",
    "    train_indices, train_indices_to_skip = selectRandomIndices(NUM_TRAIN_DATA, NUM_TRAIN, include_header = False) # include_header = False last time I checked\n",
    "    test_indices, test_indices_to_skip = selectRandomIndices(NUM_TEST_DATA, NUM_TEST, include_header = False)\n",
    "else:\n",
    "    train_indices = list(np.arange(0,NUM_TRAIN_DATA,1))\n",
    "    train_indices_to_skip = []\n",
    "    test_indices = list(np.arange(0,NUM_TEST_DATA,1))\n",
    "    test_indices_to_skip = []"
   ]
  },
  {
   "cell_type": "code",
   "execution_count": 6,
   "metadata": {},
   "outputs": [],
   "source": [
    "# Recommended to be set to True\n",
    "DEDICATED_TRAIN_AND_VAL = True"
   ]
  },
  {
   "cell_type": "markdown",
   "metadata": {},
   "source": [
    "# CNN Code"
   ]
  },
  {
   "cell_type": "markdown",
   "metadata": {
    "colab_type": "text",
    "id": "ZgcVBvFXeOwO"
   },
   "source": []
  },
  {
   "cell_type": "code",
   "execution_count": 7,
   "metadata": {
    "colab": {
     "base_uri": "https://localhost:8080/",
     "height": 102
    },
    "colab_type": "code",
    "id": "OqQi0YpTRy87",
    "outputId": "4d4f8bc7-063b-4d78-ff11-5c65b8905545"
   },
   "outputs": [
    {
     "name": "stdout",
     "output_type": "stream",
     "text": [
      "Rows in train_identity.csv\n",
      "144234\n",
      "Rows in train_transaction.csv\n",
      "590541\n",
      "Rows in test_identity.csv\n",
      "141908\n",
      "Rows in test_transaction.csv\n",
      "506692\n"
     ]
    },
    {
     "data": {
      "text/html": [
       "<div>\n",
       "<style scoped>\n",
       "    .dataframe tbody tr th:only-of-type {\n",
       "        vertical-align: middle;\n",
       "    }\n",
       "\n",
       "    .dataframe tbody tr th {\n",
       "        vertical-align: top;\n",
       "    }\n",
       "\n",
       "    .dataframe thead th {\n",
       "        text-align: right;\n",
       "    }\n",
       "</style>\n",
       "<table border=\"1\" class=\"dataframe\">\n",
       "  <thead>\n",
       "    <tr style=\"text-align: right;\">\n",
       "      <th></th>\n",
       "      <th>TransactionID</th>\n",
       "      <th>TransactionDT</th>\n",
       "      <th>TransactionAmt</th>\n",
       "      <th>ProductCD</th>\n",
       "      <th>card1</th>\n",
       "      <th>card2</th>\n",
       "      <th>card3</th>\n",
       "      <th>card4</th>\n",
       "      <th>card5</th>\n",
       "      <th>card6</th>\n",
       "      <th>...</th>\n",
       "      <th>id-31</th>\n",
       "      <th>id-32</th>\n",
       "      <th>id-33</th>\n",
       "      <th>id-34</th>\n",
       "      <th>id-35</th>\n",
       "      <th>id-36</th>\n",
       "      <th>id-37</th>\n",
       "      <th>id-38</th>\n",
       "      <th>DeviceType</th>\n",
       "      <th>DeviceInfo</th>\n",
       "    </tr>\n",
       "  </thead>\n",
       "  <tbody>\n",
       "    <tr>\n",
       "      <th>0</th>\n",
       "      <td>3663549</td>\n",
       "      <td>18403224</td>\n",
       "      <td>31.95</td>\n",
       "      <td>W</td>\n",
       "      <td>10409</td>\n",
       "      <td>111.0</td>\n",
       "      <td>150.0</td>\n",
       "      <td>visa</td>\n",
       "      <td>226.0</td>\n",
       "      <td>debit</td>\n",
       "      <td>...</td>\n",
       "      <td>chrome 67.0 for android</td>\n",
       "      <td>NaN</td>\n",
       "      <td>NaN</td>\n",
       "      <td>NaN</td>\n",
       "      <td>F</td>\n",
       "      <td>F</td>\n",
       "      <td>T</td>\n",
       "      <td>F</td>\n",
       "      <td>mobile</td>\n",
       "      <td>MYA-L13 Build/HUAWEIMYA-L13</td>\n",
       "    </tr>\n",
       "    <tr>\n",
       "      <th>1</th>\n",
       "      <td>3663550</td>\n",
       "      <td>18403263</td>\n",
       "      <td>49.00</td>\n",
       "      <td>W</td>\n",
       "      <td>4272</td>\n",
       "      <td>111.0</td>\n",
       "      <td>150.0</td>\n",
       "      <td>visa</td>\n",
       "      <td>226.0</td>\n",
       "      <td>debit</td>\n",
       "      <td>...</td>\n",
       "      <td>chrome 67.0 for android</td>\n",
       "      <td>24.0</td>\n",
       "      <td>1280x720</td>\n",
       "      <td>match_status:2</td>\n",
       "      <td>T</td>\n",
       "      <td>F</td>\n",
       "      <td>T</td>\n",
       "      <td>T</td>\n",
       "      <td>mobile</td>\n",
       "      <td>LGLS676 Build/MXB48T</td>\n",
       "    </tr>\n",
       "    <tr>\n",
       "      <th>2</th>\n",
       "      <td>3663551</td>\n",
       "      <td>18403310</td>\n",
       "      <td>171.00</td>\n",
       "      <td>W</td>\n",
       "      <td>4476</td>\n",
       "      <td>574.0</td>\n",
       "      <td>150.0</td>\n",
       "      <td>visa</td>\n",
       "      <td>226.0</td>\n",
       "      <td>debit</td>\n",
       "      <td>...</td>\n",
       "      <td>ie 11.0 for tablet</td>\n",
       "      <td>NaN</td>\n",
       "      <td>NaN</td>\n",
       "      <td>NaN</td>\n",
       "      <td>F</td>\n",
       "      <td>T</td>\n",
       "      <td>T</td>\n",
       "      <td>F</td>\n",
       "      <td>desktop</td>\n",
       "      <td>Trident/7.0</td>\n",
       "    </tr>\n",
       "    <tr>\n",
       "      <th>3</th>\n",
       "      <td>3663552</td>\n",
       "      <td>18403310</td>\n",
       "      <td>284.95</td>\n",
       "      <td>W</td>\n",
       "      <td>10989</td>\n",
       "      <td>360.0</td>\n",
       "      <td>150.0</td>\n",
       "      <td>visa</td>\n",
       "      <td>166.0</td>\n",
       "      <td>debit</td>\n",
       "      <td>...</td>\n",
       "      <td>chrome 67.0 for android</td>\n",
       "      <td>NaN</td>\n",
       "      <td>NaN</td>\n",
       "      <td>NaN</td>\n",
       "      <td>F</td>\n",
       "      <td>F</td>\n",
       "      <td>T</td>\n",
       "      <td>F</td>\n",
       "      <td>mobile</td>\n",
       "      <td>MYA-L13 Build/HUAWEIMYA-L13</td>\n",
       "    </tr>\n",
       "    <tr>\n",
       "      <th>4</th>\n",
       "      <td>3663553</td>\n",
       "      <td>18403317</td>\n",
       "      <td>67.95</td>\n",
       "      <td>W</td>\n",
       "      <td>18018</td>\n",
       "      <td>452.0</td>\n",
       "      <td>150.0</td>\n",
       "      <td>mastercard</td>\n",
       "      <td>117.0</td>\n",
       "      <td>debit</td>\n",
       "      <td>...</td>\n",
       "      <td>chrome 67.0 for android</td>\n",
       "      <td>NaN</td>\n",
       "      <td>NaN</td>\n",
       "      <td>NaN</td>\n",
       "      <td>F</td>\n",
       "      <td>F</td>\n",
       "      <td>T</td>\n",
       "      <td>F</td>\n",
       "      <td>mobile</td>\n",
       "      <td>SM-G9650 Build/R16NW</td>\n",
       "    </tr>\n",
       "  </tbody>\n",
       "</table>\n",
       "<p>5 rows × 433 columns</p>\n",
       "</div>"
      ],
      "text/plain": [
       "   TransactionID  TransactionDT  TransactionAmt ProductCD  card1  card2  \\\n",
       "0        3663549       18403224           31.95         W  10409  111.0   \n",
       "1        3663550       18403263           49.00         W   4272  111.0   \n",
       "2        3663551       18403310          171.00         W   4476  574.0   \n",
       "3        3663552       18403310          284.95         W  10989  360.0   \n",
       "4        3663553       18403317           67.95         W  18018  452.0   \n",
       "\n",
       "   card3       card4  card5  card6  ...                    id-31  id-32  \\\n",
       "0  150.0        visa  226.0  debit  ...  chrome 67.0 for android    NaN   \n",
       "1  150.0        visa  226.0  debit  ...  chrome 67.0 for android   24.0   \n",
       "2  150.0        visa  226.0  debit  ...       ie 11.0 for tablet    NaN   \n",
       "3  150.0        visa  166.0  debit  ...  chrome 67.0 for android    NaN   \n",
       "4  150.0  mastercard  117.0  debit  ...  chrome 67.0 for android    NaN   \n",
       "\n",
       "      id-33           id-34 id-35 id-36  id-37  id-38  DeviceType  \\\n",
       "0       NaN             NaN     F     F      T      F      mobile   \n",
       "1  1280x720  match_status:2     T     F      T      T      mobile   \n",
       "2       NaN             NaN     F     T      T      F     desktop   \n",
       "3       NaN             NaN     F     F      T      F      mobile   \n",
       "4       NaN             NaN     F     F      T      F      mobile   \n",
       "\n",
       "                    DeviceInfo  \n",
       "0  MYA-L13 Build/HUAWEIMYA-L13  \n",
       "1         LGLS676 Build/MXB48T  \n",
       "2                  Trident/7.0  \n",
       "3  MYA-L13 Build/HUAWEIMYA-L13  \n",
       "4         SM-G9650 Build/R16NW  \n",
       "\n",
       "[5 rows x 433 columns]"
      ]
     },
     "execution_count": 7,
     "metadata": {},
     "output_type": "execute_result"
    }
   ],
   "source": [
    "#reading identity and transaction file of both train and test\n",
    "    # NOTE: read(...) is just informative and gc.collect() is a type of \"garbage collection\" function or similar\n",
    "if GOOGLE_COLAB:\n",
    "    identity_train = pd.read_csv(r'gdrive/My Drive/Colab Notebooks/ieee-fraud-detection/train_identity.csv')\n",
    "    if not LESS_DATA_MODE: read(\"train_identity.csv\")\n",
    "    train_transaction = pd.read_csv(r'gdrive/My Drive/Colab Notebooks/ieee-fraud-detection/train_transaction.csv',\n",
    "                                    skiprows = train_indices_to_skip)\n",
    "    if not LESS_DATA_MODE: read(\"train_transaction.csv\")\n",
    "else:\n",
    "    identity_train = pd.read_csv(r'ieee-fraud-detection/train_identity.csv')\n",
    "    if not LESS_DATA_MODE: read(\"train_identity.csv\")\n",
    "    train_transaction = pd.read_csv(r'ieee-fraud-detection/train_transaction.csv',\n",
    "                                    skiprows = train_indices_to_skip)\n",
    "    if not LESS_DATA_MODE: read(\"train_transaction.csv\")\n",
    "\n",
    "#Merging both the files on the basis of TransactionID column\n",
    "train = pd.merge(train_transaction,identity_train, on='TransactionID', how='left',left_index=True,right_index=True)\n",
    "\n",
    "#delete the individual files since we merge them into one\n",
    "del train_transaction,identity_train\n",
    "gc.collect()\n",
    "\n",
    "\n",
    "\n",
    "if GOOGLE_COLAB:\n",
    "    identity_test = pd.read_csv(r'gdrive/My Drive/Colab Notebooks/ieee-fraud-detection/test_identity.csv')\n",
    "    if not LESS_DATA_MODE: read(\"test_identity.csv\")\n",
    "    test_transaction = pd.read_csv(r'gdrive/My Drive/Colab Notebooks/ieee-fraud-detection/test_transaction.csv',\n",
    "                                    skiprows = test_indices_to_skip)\n",
    "    if not LESS_DATA_MODE: read(\"test_transaction.csv\")\n",
    "else:\n",
    "    identity_test = pd.read_csv(r'ieee-fraud-detection/test_identity.csv')\n",
    "    if not LESS_DATA_MODE: read(\"test_identity.csv\")\n",
    "    test_transaction = pd.read_csv(r'ieee-fraud-detection/test_transaction.csv',\n",
    "                                    skiprows = test_indices_to_skip)\n",
    "    if not LESS_DATA_MODE: read(\"test_transaction.csv\")\n",
    "\n",
    "#Merging both the files on the basis of TransactionID column\n",
    "test = pd.merge(test_transaction,identity_test, on='TransactionID', how='left',left_index=True,right_index=True)\n",
    "\n",
    "#delete the individual files since we merge them into one\n",
    "del test_transaction,identity_test\n",
    "gc.collect()\n",
    "\n",
    "\n",
    "test.head()"
   ]
  },
  {
   "cell_type": "markdown",
   "metadata": {
    "colab_type": "text",
    "id": "CU3U7C2wDhnL"
   },
   "source": [
    "# **Feature extraction**"
   ]
  },
  {
   "cell_type": "markdown",
   "metadata": {
    "colab_type": "text",
    "id": "VB0tiyb3xW-N"
   },
   "source": [
    "One of the important features in this dataset is `TransactionDT`. This is a time related feature and the time is in second.\n",
    "From this feature we are creating 2 new features. Since this is in sec ,one feature will be in day and another feature will be in hour."
   ]
  },
  {
   "cell_type": "code",
   "execution_count": 8,
   "metadata": {
    "colab": {},
    "colab_type": "code",
    "id": "KjBYx1ENxtae"
   },
   "outputs": [
    {
     "data": {
      "text/plain": [
       "<matplotlib.axes._subplots.AxesSubplot at 0x18f63ecc448>"
      ]
     },
     "execution_count": 8,
     "metadata": {},
     "output_type": "execute_result"
    },
    {
     "data": {
      "image/png": "[encoded data removed]",
      "text/plain": [
       "<Figure size 432x288 with 1 Axes>"
      ]
     },
     "metadata": {
      "needs_background": "light"
     },
     "output_type": "display_data"
    }
   ],
   "source": [
    "day_to_hour = (3600*24)-1\n",
    "train['day'] = (train['TransactionDT']/day_to_hour)%7\n",
    "train['hour'] = (train['TransactionDT']//(3600))%24\n",
    "test['day'] = (test['TransactionDT']/day_to_hour)%7\n",
    "test['hour'] = (test['TransactionDT']//(3600))%24\n",
    "\n",
    "df = (train.groupby(['isFraud'])['hour']\n",
    "                     .value_counts(normalize=True)\n",
    "                     .rename('percentage')\n",
    "                     .mul(100)\n",
    "                     .reset_index()\n",
    "                     .sort_values('hour'))\n",
    "sns.barplot(x='hour', y='percentage', hue='isFraud', data=df)"
   ]
  },
  {
   "cell_type": "markdown",
   "metadata": {
    "colab_type": "text",
    "id": "RD7McqVG3KP0"
   },
   "source": [
    "Analyzing `TransactionAmt` feature\n"
   ]
  },
  {
   "cell_type": "code",
   "execution_count": 9,
   "metadata": {
    "colab": {
     "base_uri": "https://localhost:8080/",
     "height": 170
    },
    "colab_type": "code",
    "id": "jibNoD433OxX",
    "outputId": "0900f6c7-1c8e-4673-a65a-c98e84739a9c"
   },
   "outputs": [
    {
     "name": "stdout",
     "output_type": "stream",
     "text": [
      "       TransactionAmt\n",
      "count   590540.000000\n",
      "mean       135.027176\n",
      "std        239.162522\n",
      "min          0.251000\n",
      "25%         43.321000\n",
      "50%         68.769000\n",
      "75%        125.000000\n",
      "max      31937.391000\n"
     ]
    }
   ],
   "source": [
    "train_transAmt = train['TransactionAmt']\n",
    "test_transAmt = test['TransactionAmt']\n",
    "\n",
    "#Create a DataFrame\n",
    "df = pd.DataFrame(train_transAmt)\n",
    "print (df.describe(include='all'))"
   ]
  },
  {
   "cell_type": "code",
   "execution_count": 10,
   "metadata": {
    "colab": {
     "base_uri": "https://localhost:8080/",
     "height": 170
    },
    "colab_type": "code",
    "id": "z2DGVw1J5cst",
    "outputId": "fe7cb20c-1b88-4208-e135-2365c6f9fdbc"
   },
   "outputs": [
    {
     "name": "stdout",
     "output_type": "stream",
     "text": [
      "       TransactionAmt\n",
      "count   506691.000000\n",
      "mean       134.725568\n",
      "std        245.779822\n",
      "min          0.018000\n",
      "25%         40.000000\n",
      "50%         67.950000\n",
      "75%        125.000000\n",
      "max      10270.000000\n"
     ]
    }
   ],
   "source": [
    "df = pd.DataFrame(test_transAmt)\n",
    "print (df.describe(include='all'))"
   ]
  },
  {
   "cell_type": "markdown",
   "metadata": {
    "colab_type": "text",
    "id": "IoO3zits5s0c"
   },
   "source": [
    "Upto 75%, values are below 125 but suddenly it rises to around 31937.391 in train and 10270 in test. Let's normalize the `TransactionAmt` feature."
   ]
  },
  {
   "cell_type": "code",
   "execution_count": 11,
   "metadata": {
    "colab": {},
    "colab_type": "code",
    "id": "GmJOEasg7Kle"
   },
   "outputs": [],
   "source": [
    "train['LogTransactionAmt'] = np.log(train['TransactionAmt'])\n",
    "test['LogTransactionAmt'] = np.log(test['TransactionAmt'])"
   ]
  },
  {
   "cell_type": "code",
   "execution_count": 12,
   "metadata": {
    "colab": {},
    "colab_type": "code",
    "id": "Q1d7E-jGt1U7"
   },
   "outputs": [
    {
     "name": "stdout",
     "output_type": "stream",
     "text": [
      "Rows in sample_submission.csv\n",
      "506692\n"
     ]
    }
   ],
   "source": [
    "if GOOGLE_COLAB:\n",
    "    df_submission = pd.read_csv(r'gdrive/My Drive/Colab Notebooks/ieee-fraud-detection/sample_submission.csv',\n",
    "                                skiprows = test_indices_to_skip)\n",
    "else:\n",
    "    df_submission = pd.read_csv(r'ieee-fraud-detection/sample_submission.csv',\n",
    "                                skiprows = test_indices_to_skip)\n",
    "if not LESS_DATA_MODE:\n",
    "    read(\"sample_submission.csv\")"
   ]
  },
  {
   "cell_type": "code",
   "execution_count": 13,
   "metadata": {
    "colab": {},
    "colab_type": "code",
    "id": "X7brlkSKFVMc"
   },
   "outputs": [],
   "source": [
    "many_null_cols = [col for col in train.columns if train[col].isnull().sum() / train.shape[0] > 0.9]\n",
    "many_null_cols_test = [col for col in test.columns if test[col].isnull().sum() / test.shape[0] > 0.9]\n",
    "\n",
    "big_top_value_cols = [col for col in train.columns if train[col].value_counts(dropna=False, normalize=True).values[0] > 0.9]\n",
    "big_top_value_cols_test = [col for col in test.columns if test[col].value_counts(dropna=False, normalize=True).values[0] > 0.9]\n"
   ]
  },
  {
   "cell_type": "code",
   "execution_count": 14,
   "metadata": {
    "colab": {
     "base_uri": "https://localhost:8080/",
     "height": 34
    },
    "colab_type": "code",
    "id": "GFxGCnoQFfMP",
    "outputId": "3e4fa7e7-113f-426b-fdb8-069a622cce1d"
   },
   "outputs": [
    {
     "name": "stdout",
     "output_type": "stream",
     "text": [
      "54\n",
      "54\n"
     ]
    }
   ],
   "source": [
    "def intersection(lst1, lst2):\n",
    "  return list(set(lst1) & set(lst2))\n",
    "cols_to_drop_null = intersection(many_null_cols, many_null_cols_test)\n",
    "cols_to_drop_btv = intersection(big_top_value_cols, big_top_value_cols_test)\n",
    "\n",
    "cols_to_drop = list(set(cols_to_drop_null + cols_to_drop_btv))\n",
    "cols_to_drop_train = []\n",
    "cols_to_drop_test = []\n",
    "for col in cols_to_drop:\n",
    "    if col in train.columns:\n",
    "        cols_to_drop_train.append(col)\n",
    "#for col in cols_to_drop:\n",
    "    if col in test.columns:\n",
    "        cols_to_drop_test.append(col)\n",
    "\n",
    "print(len(cols_to_drop_train))\n",
    "print(len(cols_to_drop_test))"
   ]
  },
  {
   "cell_type": "code",
   "execution_count": 15,
   "metadata": {
    "colab": {},
    "colab_type": "code",
    "id": "OSkWdgZ0FmbF"
   },
   "outputs": [],
   "source": [
    "train = train.drop('TransactionAmt', axis=1)\n",
    "test = test.drop('TransactionAmt', axis=1)\n",
    "train = train.drop(cols_to_drop_train, axis=1)\n",
    "test = test.drop(cols_to_drop_test, axis=1)"
   ]
  },
  {
   "cell_type": "markdown",
   "metadata": {
    "colab_type": "text",
    "id": "fqPtzBGiHiyW"
   },
   "source": [
    "Treat the missing values. We will fill the missing value of the categorical value by mode and numerical value by mean."
   ]
  },
  {
   "cell_type": "code",
   "execution_count": 16,
   "metadata": {
    "colab": {},
    "colab_type": "code",
    "id": "x3fs7wwGwTXv"
   },
   "outputs": [],
   "source": [
    "#For numerical value imputation\n",
    "for i in train.columns:\n",
    "    if train[i].dtypes=='int64' or train[i].dtypes=='float64':\n",
    "        train[i].fillna(train[i].mean(),inplace=True)\n",
    "\n",
    "#For categorical value imputation\n",
    "for i in train.columns:\n",
    "    if train[i].dtypes=='object':\n",
    "        train[i].fillna(train[i].mode()[0],inplace=True)\n",
    "\n",
    "#For numerical value imputation\n",
    "for i in test.columns:\n",
    "    if test[i].dtypes=='int64' or test[i].dtypes=='float64':\n",
    "        test[i].fillna(test[i].mean(),inplace=True)\n",
    "\n",
    "#For categorical value imputation\n",
    "for i in test.columns:\n",
    "    if test[i].dtypes=='object':\n",
    "        test[i].fillna(test[i].mode()[0],inplace=True)"
   ]
  },
  {
   "cell_type": "markdown",
   "metadata": {
    "colab_type": "text",
    "id": "Jn2jx7PIwb3P"
   },
   "source": [
    "Replace all the categorical values by unique numbers "
   ]
  },
  {
   "cell_type": "code",
   "execution_count": 17,
   "metadata": {
    "colab": {},
    "colab_type": "code",
    "id": "4zbkMBgCgBMA"
   },
   "outputs": [
    {
     "name": "stdout",
     "output_type": "stream",
     "text": [
      "(590540, 382) (506691, 381)\n"
     ]
    }
   ],
   "source": [
    "from sklearn.preprocessing import LabelEncoder\n",
    "cat_cols = ['id_12', 'id_13', 'id_14', 'id_15', 'id_16', 'id_17', 'id_18', 'id_19', 'id_20', 'id_21', 'id_22', 'id_23', 'id_24', 'id_25', 'id_26', 'id_27', 'id_28', 'id_29',\n",
    "            'id_30', 'id_31', 'id_32', 'id_33', 'id_34', 'id_35', 'id_36', 'id_37', 'id_38', 'DeviceType', 'DeviceInfo', 'ProductCD', 'card4', 'card6', 'M4','P_emaildomain',\n",
    "            'R_emaildomain', 'card1', 'card2', 'card3',  'card5', 'addr1', 'addr2', 'M1', 'M2', 'M3', 'M5', 'M6', 'M7', 'M8', 'M9',\n",
    "            'P_emaildomain_1', 'P_emaildomain_2', 'P_emaildomain_3', 'R_emaildomain_1', 'R_emaildomain_2', 'R_emaildomain_3']\n",
    "for col in cat_cols:\n",
    "    if col in train.columns:\n",
    "        le = LabelEncoder()\n",
    "        le.fit(list(train[col].astype(str).values))\n",
    "        train[col] = le.transform(list(train[col].astype(str).values))\n",
    "\n",
    "# This repetitive code is required to avoid an unknown bug for some unknown reason\n",
    "cat_cols = ['id-12', 'id-13', 'id-14', 'id-15', 'id-16', 'id-17', 'id-18', 'id-19', 'id-20', 'id-21', 'id-22', 'id-23', 'id-24', 'id-25', 'id-26', 'id-27', 'id-28', 'id-29',\n",
    "            'id-30', 'id-31', 'id-32', 'id-33', 'id-34', 'id-35', 'id-36', 'id-37', 'id-38', 'DeviceType', 'DeviceInfo', 'ProductCD', 'card4', 'card6', 'M4','P_emaildomain',\n",
    "            'R_emaildomain', 'card1', 'card2', 'card3',  'card5', 'addr1', 'addr2', 'M1', 'M2', 'M3', 'M5', 'M6', 'M7', 'M8', 'M9',\n",
    "            'P_emaildomain_1', 'P_emaildomain_2', 'P_emaildomain_3', 'R_emaildomain_1', 'R_emaildomain_2', 'R_emaildomain_3']\n",
    "for col in cat_cols:\n",
    "    if col in test.columns:\n",
    "        le = LabelEncoder()\n",
    "        le.fit(list(test[col].astype(str).values))\n",
    "        test[col] = le.transform(list(test[col].astype(str).values))\n",
    "\n",
    "print(train.shape, test.shape)"
   ]
  },
  {
   "cell_type": "code",
   "execution_count": 18,
   "metadata": {
    "colab": {},
    "colab_type": "code",
    "id": "d8UHgmgYVBTm"
   },
   "outputs": [],
   "source": [
    "#Create independent and Dependent Features\n",
    "columns1 = train.columns.tolist()\n",
    "# Filter the columns to remove data we do not want \n",
    "columns1 = [c for c in columns1 if c not in [\"isFraud\"]]\n",
    "# Store the variable we are predicting \n",
    "target = \"isFraud\"\n",
    "# Define a random state \n",
    "state = np.random.RandomState() #42\n",
    "\n",
    "X = train.sort_values('TransactionDT')\n",
    "y = train.sort_values('TransactionDT')['isFraud']"
   ]
  },
  {
   "cell_type": "code",
   "execution_count": 19,
   "metadata": {
    "colab": {
     "base_uri": "https://localhost:8080/",
     "height": 51
    },
    "colab_type": "code",
    "id": "ztobr4B24YCc",
    "outputId": "4ca0fb65-b4fa-451b-a22d-137b7f4520ba"
   },
   "outputs": [
    {
     "name": "stdout",
     "output_type": "stream",
     "text": [
      "(590540, 381)\n",
      "(590540,)\n"
     ]
    }
   ],
   "source": [
    "X = X[columns1]\n",
    "#y = y[target]\n",
    "print(X.shape)\n",
    "print(y.shape)"
   ]
  },
  {
   "cell_type": "code",
   "execution_count": 20,
   "metadata": {},
   "outputs": [],
   "source": [
    "OVERSAMPLING = True\n",
    "if OVERSAMPLING:\n",
    "    os = RandomOverSampler()\n",
    "    X_res,y_res=os.fit_sample(X,y)\n",
    "else:\n",
    "    X_res = X\n",
    "    y_res = y"
   ]
  },
  {
   "cell_type": "code",
   "execution_count": 21,
   "metadata": {
    "colab": {},
    "colab_type": "code",
    "id": "8Q7-CqdEWGal"
   },
   "outputs": [
    {
     "name": "stdout",
     "output_type": "stream",
     "text": [
      "(911803, 381) (227951, 381)\n",
      "0.5000005483640655\n",
      "0.4999978065461437\n"
     ]
    }
   ],
   "source": [
    "#split into train and validation data\n",
    "from sklearn.model_selection import train_test_split\n",
    "X_train, X_val, Y_train, Y_val = train_test_split(X_res, y_res, test_size = 0.2, random_state = 0, stratify = y_res)\n",
    "print(X_train.shape, X_val.shape)\n",
    "\n",
    "# If oversampling works, these should both print 0.5\n",
    "print(np.average(Y_train))\n",
    "print(np.average(Y_val))"
   ]
  },
  {
   "cell_type": "code",
   "execution_count": 22,
   "metadata": {
    "colab": {},
    "colab_type": "code",
    "id": "buPMLtyYWNED"
   },
   "outputs": [],
   "source": [
    "from sklearn.preprocessing import StandardScaler\n",
    "scaler = StandardScaler()\n",
    "\n",
    "#for dedicated train and validation set \n",
    "X_train = scaler.fit_transform(X_train) \n",
    "X_val = scaler.transform(X_val)\n",
    "\n",
    "#for multiplpe fold validation\n",
    "X_res = scaler.fit_transform(X_res)\n",
    "X_res = scaler.transform(X_res)\n"
   ]
  },
  {
   "cell_type": "code",
   "execution_count": 23,
   "metadata": {
    "colab": {
     "base_uri": "https://localhost:8080/",
     "height": 34
    },
    "colab_type": "code",
    "id": "a4z2BmDjYMi_",
    "outputId": "14e6c7d5-407a-4006-8418-0bf56ab0b0fa"
   },
   "outputs": [],
   "source": [
    "test = scaler.fit_transform(test)\n",
    "test = scaler.transform(test)\n",
    "test = test.reshape(test.shape[0], test.shape[1], 1)"
   ]
  },
  {
   "cell_type": "code",
   "execution_count": 24,
   "metadata": {
    "colab": {
     "base_uri": "https://localhost:8080/",
     "height": 34
    },
    "colab_type": "code",
    "id": "XBg-qzeJYQGH",
    "outputId": "e7631ff8-2017-4984-d821-827661fa806f"
   },
   "outputs": [
    {
     "name": "stdout",
     "output_type": "stream",
     "text": [
      "(911803, 381, 1) (227951, 381, 1)\n",
      "(1139754, 381, 1)\n"
     ]
    }
   ],
   "source": [
    "#for dedicated train and validation set \n",
    "X_train = X_train.reshape(X_train.shape[0], X_train.shape[1], 1)\n",
    "X_val = X_val.reshape(X_val.shape[0], X_val.shape[1], 1)\n",
    "print(X_train.shape, X_val.shape)\n",
    "\n",
    "#for multiplpe fold validation\n",
    "X_res = X_res.reshape(X_res.shape[0], X_res.shape[1], 1)\n",
    "print(X_res.shape)"
   ]
  },
  {
   "cell_type": "code",
   "execution_count": 25,
   "metadata": {
    "colab": {},
    "colab_type": "code",
    "id": "zDMCl6yAYUZi"
   },
   "outputs": [],
   "source": [
    "def create_model():\n",
    "    epochs = 1\n",
    "    model = Sequential()\n",
    "    model.add(Conv1D(20, 2, activation='relu', input_shape = X_res[0].shape))\n",
    "    #model.add(Dense(20, activation='relu', input_shape = X_res[0].shape))\n",
    "    model.add(BatchNormalization())\n",
    "    model.add(MaxPool1D(2))\n",
    "    model.add(Dropout(0.2))\n",
    "\n",
    "    model.add(Conv1D(20, 2, activation='relu'))\n",
    "    #model.add(Dense(20, activation='relu'))\n",
    "    model.add(BatchNormalization())\n",
    "    model.add(MaxPool1D(2))\n",
    "    model.add(Dropout(0.5))\n",
    "    \n",
    "    model.add(Flatten()) # Required for model to work properly\n",
    "    model.add(Dense(20, activation='relu'))\n",
    "    model.add(Dropout(0.5))\n",
    "    \n",
    "    model.add(Dense(1, activation='sigmoid'))\n",
    "    model.compile(optimizer=SGD(), loss = 'binary_crossentropy', metrics=['accuracy'])\n",
    "    return model"
   ]
  },
  {
   "cell_type": "code",
   "execution_count": 26,
   "metadata": {
    "colab": {
     "base_uri": "https://localhost:8080/",
     "height": 85
    },
    "colab_type": "code",
    "id": "psofmCu0YYzu",
    "outputId": "d2c537ed-c9e2-4250-c1b5-7a84a10618f1"
   },
   "outputs": [
    {
     "name": "stdout",
     "output_type": "stream",
     "text": [
      "Train on 911803 samples, validate on 227951 samples\n",
      "911680/911803 [============================>.] - ETA: 0s - loss: 0.5293 - accuracy: 0.7293\n",
      "Epoch 00001: val_accuracy improved from -inf to 0.77199, saving model to cp.ckpt\n",
      "911803/911803 [==============================] - 292s 321us/sample - loss: 0.5293 - accuracy: 0.7293 - val_loss: 0.4751 - val_accuracy: 0.7720\n",
      "<tensorflow.python.keras.callbacks.History object at 0x0000018F64A43488>\n",
      "Train on 911803 samples, validate on 227951 samples\n",
      "911616/911803 [============================>.] - ETA: 0s - loss: 0.5001 - accuracy: 0.7511\n",
      "Epoch 00001: val_accuracy improved from 0.77199 to 0.77690, saving model to cp.ckpt\n",
      "911803/911803 [==============================] - 292s 320us/sample - loss: 0.5002 - accuracy: 0.7511 - val_loss: 0.4604 - val_accuracy: 0.7769\n",
      "Train on 911803 samples, validate on 227951 samples\n",
      "911744/911803 [============================>.] - ETA: 0s - loss: 0.4918 - accuracy: 0.7571\n",
      "Epoch 00001: val_accuracy improved from 0.77690 to 0.78296, saving model to cp.ckpt\n",
      "911803/911803 [==============================] - 289s 317us/sample - loss: 0.4918 - accuracy: 0.7571 - val_loss: 0.4525 - val_accuracy: 0.7830\n",
      "Train on 911803 samples, validate on 227951 samples\n",
      "911680/911803 [============================>.] - ETA: 0s - loss: 0.4864 - accuracy: 0.7616\n",
      "Epoch 00001: val_accuracy improved from 0.78296 to 0.78784, saving model to cp.ckpt\n",
      "911803/911803 [==============================] - 258s 283us/sample - loss: 0.4863 - accuracy: 0.7616 - val_loss: 0.4463 - val_accuracy: 0.7878\n",
      "Train on 911803 samples, validate on 227951 samples\n",
      "911680/911803 [============================>.] - ETA: 0s - loss: 0.4826 - accuracy: 0.7642\n",
      "Epoch 00001: val_accuracy improved from 0.78784 to 0.79263, saving model to cp.ckpt\n",
      "911803/911803 [==============================] - 256s 280us/sample - loss: 0.4826 - accuracy: 0.7642 - val_loss: 0.4414 - val_accuracy: 0.7926\n",
      "Train on 911803 samples, validate on 227951 samples\n",
      "911616/911803 [============================>.] - ETA: 0s - loss: 0.4794 - accuracy: 0.7663\n",
      "Epoch 00001: val_accuracy improved from 0.79263 to 0.79360, saving model to cp.ckpt\n",
      "911803/911803 [==============================] - 272s 299us/sample - loss: 0.4794 - accuracy: 0.7663 - val_loss: 0.4386 - val_accuracy: 0.7936\n"
     ]
    }
   ],
   "source": [
    "num_epochs = 5\n",
    "history = []\n",
    "checkpoint_path = \"cp.ckpt\"\n",
    "cp_callback = tf.keras.callbacks.ModelCheckpoint(filepath=checkpoint_path,save_best_only=True, monitor='val_accuracy',save_weights_only=True, verbose=1, mode='max')\n",
    "li = list(np.arange(0,X_res.shape[1],1))\n",
    "\n",
    "model_ckpt= create_model()\n",
    "if DEDICATED_TRAIN_AND_VAL:\n",
    "    hist = model_ckpt.fit(X_train, Y_train, batch_size=64, epochs=1, verbose=1, validation_split=0.0, validation_data=(X_val, Y_val),callbacks=[cp_callback]) #shuffle=True\n",
    "else:\n",
    "    hist = model_ckpt.fit(X_res, y_res, batch_size=64, epochs=1,  verbose=1, validation_split=0.2, callbacks=[cp_callback]) #shuffle=True\n",
    "\n",
    "print(hist)\n",
    "history.append(hist)\n",
    "\n",
    "for epoch in range(num_epochs):\n",
    "    model_ckpt1 = create_model()\n",
    "    model_ckpt1.load_weights(checkpoint_path)\n",
    "    if DEDICATED_TRAIN_AND_VAL:\n",
    "        hist = model_ckpt.fit(X_train, Y_train, batch_size=64, epochs=1, verbose=1, validation_split=0.0, validation_data=(X_val, Y_val),callbacks=[cp_callback]) #shuffle=True\n",
    "    else:\n",
    "        hist = model_ckpt1.fit(X_res, y_res, batch_size=64, epochs=1,  verbose=1, validation_split=0.2, callbacks=[cp_callback])   #shuffle=True\n",
    "    history.append(hist)"
   ]
  },
  {
   "cell_type": "code",
   "execution_count": 27,
   "metadata": {
    "colab": {},
    "colab_type": "code",
    "id": "_DRhZDYranTV",
    "scrolled": false
   },
   "outputs": [
    {
     "name": "stdout",
     "output_type": "stream",
     "text": [
      "Model: \"sequential_5\"\n",
      "_________________________________________________________________\n",
      "Layer (type)                 Output Shape              Param #   \n",
      "=================================================================\n",
      "conv1d_10 (Conv1D)           (None, 380, 20)           60        \n",
      "_________________________________________________________________\n",
      "batch_normalization_10 (Batc (None, 380, 20)           80        \n",
      "_________________________________________________________________\n",
      "max_pooling1d_10 (MaxPooling (None, 190, 20)           0         \n",
      "_________________________________________________________________\n",
      "dropout_15 (Dropout)         (None, 190, 20)           0         \n",
      "_________________________________________________________________\n",
      "conv1d_11 (Conv1D)           (None, 189, 20)           820       \n",
      "_________________________________________________________________\n",
      "batch_normalization_11 (Batc (None, 189, 20)           80        \n",
      "_________________________________________________________________\n",
      "max_pooling1d_11 (MaxPooling (None, 94, 20)            0         \n",
      "_________________________________________________________________\n",
      "dropout_16 (Dropout)         (None, 94, 20)            0         \n",
      "_________________________________________________________________\n",
      "flatten_5 (Flatten)          (None, 1880)              0         \n",
      "_________________________________________________________________\n",
      "dense_10 (Dense)             (None, 20)                37620     \n",
      "_________________________________________________________________\n",
      "dropout_17 (Dropout)         (None, 20)                0         \n",
      "_________________________________________________________________\n",
      "dense_11 (Dense)             (None, 1)                 21        \n",
      "=================================================================\n",
      "Total params: 38,681\n",
      "Trainable params: 38,601\n",
      "Non-trainable params: 80\n",
      "_________________________________________________________________\n"
     ]
    }
   ],
   "source": [
    "# saving the model\n",
    "model_json = model_ckpt1.to_json()\n",
    "with open(\"model.json\", \"w\") as json_file:\n",
    "  json_file.write(model_json)\n",
    "model_ckpt1.summary()"
   ]
  },
  {
   "cell_type": "code",
   "execution_count": 28,
   "metadata": {
    "colab": {},
    "colab_type": "code",
    "id": "fSUUSKP7e8XB"
   },
   "outputs": [
    {
     "name": "stdout",
     "output_type": "stream",
     "text": [
      "WARNING:tensorflow:Unresolved object in checkpoint: (root).optimizer.iter\n",
      "WARNING:tensorflow:Unresolved object in checkpoint: (root).optimizer.decay\n",
      "WARNING:tensorflow:Unresolved object in checkpoint: (root).optimizer.learning_rate\n",
      "WARNING:tensorflow:Unresolved object in checkpoint: (root).optimizer.momentum\n",
      "WARNING:tensorflow:A checkpoint was restored (e.g. tf.train.Checkpoint.restore or tf.keras.Model.load_weights) but not all checkpointed values were used. See above for specific issues. Use expect_partial() on the load status object, e.g. tf.train.Checkpoint.restore(...).expect_partial(), to silence these warnings, or use assert_consumed() to make the check explicit. See https://www.tensorflow.org/guide/checkpoint#loading_mechanics for details.\n",
      "WARNING:tensorflow:Unresolved object in checkpoint: (root).optimizer.iter\n",
      "WARNING:tensorflow:Unresolved object in checkpoint: (root).optimizer.decay\n",
      "WARNING:tensorflow:Unresolved object in checkpoint: (root).optimizer.learning_rate\n",
      "WARNING:tensorflow:Unresolved object in checkpoint: (root).optimizer.momentum\n",
      "WARNING:tensorflow:A checkpoint was restored (e.g. tf.train.Checkpoint.restore or tf.keras.Model.load_weights) but not all checkpointed values were used. See above for specific issues. Use expect_partial() on the load status object, e.g. tf.train.Checkpoint.restore(...).expect_partial(), to silence these warnings, or use assert_consumed() to make the check explicit. See https://www.tensorflow.org/guide/checkpoint#loading_mechanics for details.\n",
      "WARNING:tensorflow:Unresolved object in checkpoint: (root).optimizer.iter\n",
      "WARNING:tensorflow:Unresolved object in checkpoint: (root).optimizer.decay\n",
      "WARNING:tensorflow:Unresolved object in checkpoint: (root).optimizer.learning_rate\n",
      "WARNING:tensorflow:Unresolved object in checkpoint: (root).optimizer.momentum\n",
      "WARNING:tensorflow:A checkpoint was restored (e.g. tf.train.Checkpoint.restore or tf.keras.Model.load_weights) but not all checkpointed values were used. See above for specific issues. Use expect_partial() on the load status object, e.g. tf.train.Checkpoint.restore(...).expect_partial(), to silence these warnings, or use assert_consumed() to make the check explicit. See https://www.tensorflow.org/guide/checkpoint#loading_mechanics for details.\n",
      "WARNING:tensorflow:Unresolved object in checkpoint: (root).optimizer.iter\n",
      "WARNING:tensorflow:Unresolved object in checkpoint: (root).optimizer.decay\n",
      "WARNING:tensorflow:Unresolved object in checkpoint: (root).optimizer.learning_rate\n",
      "WARNING:tensorflow:Unresolved object in checkpoint: (root).optimizer.momentum\n",
      "WARNING:tensorflow:A checkpoint was restored (e.g. tf.train.Checkpoint.restore or tf.keras.Model.load_weights) but not all checkpointed values were used. See above for specific issues. Use expect_partial() on the load status object, e.g. tf.train.Checkpoint.restore(...).expect_partial(), to silence these warnings, or use assert_consumed() to make the check explicit. See https://www.tensorflow.org/guide/checkpoint#loading_mechanics for details.\n",
      "506691/506691 [==============================] - 25s 49us/sample\n",
      "0.98351806\n"
     ]
    }
   ],
   "source": [
    "# testing and getting predictions\n",
    "predicted_labels = model_ckpt1.predict(test, batch_size=64, verbose=1)\n",
    "predicted_labels = np.round(predicted_labels,3)\n",
    "print(np.average(predicted_labels))\n",
    "\n",
    "# Submit \"textCNN_submission.csv\" to Kaggle\n",
    "df_submission[\"isFraud\"] = predicted_labels\n",
    "df_submission.to_csv('textCNN_submission.csv', index=False)"
   ]
  },
  {
   "cell_type": "code",
   "execution_count": 29,
   "metadata": {
    "colab": {},
    "colab_type": "code",
    "id": "ODWXqkVappQe"
   },
   "outputs": [],
   "source": [
    "accuracy = []\n",
    "val_accuracy = []\n",
    "loss = []\n",
    "val_loss = []\n",
    "for i in range(len(history)):\n",
    "    accuracy.append(history[i].history['accuracy'])\n",
    "    val_accuracy.append(history[i].history['val_accuracy'])\n",
    "    loss.append(history[i].history['loss'])\n",
    "    val_loss.append(history[i].history['val_loss'])"
   ]
  },
  {
   "cell_type": "code",
   "execution_count": 30,
   "metadata": {
    "colab": {},
    "colab_type": "code",
    "id": "IcLjyKSNm7Ez"
   },
   "outputs": [],
   "source": [
    "import matplotlib\n",
    "def plot_learningCurve(epoch, accuracy, val_accuracy, loss, val_loss):\n",
    "  # Plot training & validation accuracy values\n",
    "  epoch_range = range(1, epoch+1)\n",
    "  plt.plot(epoch_range, accuracy)\n",
    "  plt.plot(epoch_range, val_accuracy)\n",
    "  plt.title('Model accuracy', fontsize=24)\n",
    "  plt.ylabel('Accuracy', fontsize=16)\n",
    "  plt.xlabel('Epoch', fontsize=16)\n",
    "  plt.legend(['Train', 'Val'], loc='lower right', fontsize=14)\n",
    "  matplotlib.rcParams.update({'font.size': 12})\n",
    "  plt.show()\n",
    "\n",
    "  # Plot training & validation loss values\n",
    "  plt.plot(epoch_range, loss)\n",
    "  plt.plot(epoch_range, val_loss)\n",
    "  plt.title('Model loss', fontsize=24)\n",
    "  plt.ylabel('Loss', fontsize=16)\n",
    "  plt.xlabel('Epoch', fontsize=16)\n",
    "  plt.legend(['Train', 'Val'], loc='upper right', fontsize=14)\n",
    "  matplotlib.rcParams.update({'font.size': 12})\n",
    "  plt.show()"
   ]
  },
  {
   "cell_type": "code",
   "execution_count": 31,
   "metadata": {
    "colab": {
     "base_uri": "https://localhost:8080/",
     "height": 573
    },
    "colab_type": "code",
    "id": "KmOe-EZ3m_pW",
    "outputId": "db59e95b-b230-44fd-cf8c-9dde1db64145",
    "scrolled": true
   },
   "outputs": [
    {
     "data": {
      "image/png": "[encoded data removed]",
      "text/plain": [
       "<Figure size 432x288 with 1 Axes>"
      ]
     },
     "metadata": {
      "needs_background": "light"
     },
     "output_type": "display_data"
    },
    {
     "data": {
      "image/png": "[encoded data removed]",
      "text/plain": [
       "<Figure size 432x288 with 1 Axes>"
      ]
     },
     "metadata": {
      "needs_background": "light"
     },
     "output_type": "display_data"
    }
   ],
   "source": [
    "plot_learningCurve(num_epochs+1, accuracy, val_accuracy, loss, val_loss)"
   ]
  },
  {
   "cell_type": "code",
   "execution_count": 32,
   "metadata": {
    "scrolled": true
   },
   "outputs": [
    {
     "name": "stdout",
     "output_type": "stream",
     "text": [
      "0.8728098106275992\n"
     ]
    },
    {
     "data": {
      "image/png": "[encoded data removed]",
      "text/plain": [
       "<Figure size 432x288 with 1 Axes>"
      ]
     },
     "metadata": {
      "needs_background": "light"
     },
     "output_type": "display_data"
    }
   ],
   "source": [
    "import sklearn\n",
    "\n",
    "if DEDICATED_TRAIN_AND_VAL:\n",
    "    X_plot = X_val\n",
    "    Y_plot = Y_val\n",
    "else:\n",
    "    X_plot = X_res\n",
    "    Y_plot = y_res\n",
    "\n",
    "# Evaluate ROC curve based on validation data\n",
    "Y_pred = model_ckpt1.predict(X_plot)\n",
    "fpr, tpr, threshold = sklearn.metrics.roc_curve(Y_plot, Y_pred)\n",
    "roc_auc = sklearn.metrics.auc(fpr, tpr)\n",
    "print(roc_auc)\n",
    "\n",
    "# Plot ROC-AUC curve\n",
    "plt.plot(fpr, tpr, [0,1], [0,1])\n",
    "plt.title('ROC Curve', fontsize=24)\n",
    "plt.ylabel('True Positive Rate', fontsize=16)\n",
    "plt.xlabel('False Positive Rate', fontsize=16)\n",
    "plt.legend(['AUC: %0.3f' % roc_auc],loc='lower right', fontsize=14)\n",
    "matplotlib.rcParams.update({'font.size': 12})\n",
    "plt.show()"
   ]
  },
  {
   "cell_type": "code",
   "execution_count": 33,
   "metadata": {},
   "outputs": [
    {
     "name": "stdout",
     "output_type": "stream",
     "text": [
      "(911803, 381, 1)\n",
      "(911803,)\n",
      "(227951, 381, 1)\n",
      "(227951,)\n"
     ]
    }
   ],
   "source": [
    "if DEDICATED_TRAIN_AND_VAL:\n",
    "    print(X_train.shape)\n",
    "    print(Y_train.shape)\n",
    "    print(X_val.shape)\n",
    "    print(Y_val.shape)\n",
    "else:\n",
    "    print(X_res.shape)\n",
    "    print(y_res.shape)\n"
   ]
  },
  {
   "cell_type": "code",
   "execution_count": null,
   "metadata": {},
   "outputs": [],
   "source": []
  }
 ],
 "metadata": {
  "accelerator": "GPU",
  "colab": {
   "collapsed_sections": [],
   "machine_shape": "hm",
   "name": "CNN.ipynb",
   "provenance": []
  },
  "kernelspec": {
   "display_name": "Python 3",
   "language": "python",
   "name": "python3"
  },
  "language_info": {
   "codemirror_mode": {
    "name": "ipython",
    "version": 3
   },
   "file_extension": ".py",
   "mimetype": "text/x-python",
   "name": "python",
   "nbconvert_exporter": "python",
   "pygments_lexer": "ipython3",
   "version": "3.7.6"
  }
 },
 "nbformat": 4,
 "nbformat_minor": 1
}
